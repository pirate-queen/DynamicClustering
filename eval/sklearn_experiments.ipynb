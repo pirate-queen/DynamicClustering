{
 "cells": [
  {
   "cell_type": "markdown",
   "metadata": {},
   "source": [
    "# Scikit-Learn Clustering Experimentation\n",
    "\n",
    "#### Date Created: 11/8/2020\n",
    "\n",
    "#### The purpose of this notebook is to develop experience with the datasets and clustering algorithms available in Scikit-Learn, relevant plotting with matplotlib, and synthetic data generation. The ultimate goal is to recreate some of the experiments conducted in: \n",
    "\n",
    "Nathalie Barbosa Roa, Louise Travé-Massuyès, Victor Hugo Grisales. DyClee: Dynamic clustering for tracking evolving environments. Pattern Recognition, Elsevier, 2019, 94, pp.162-186. 10.1016/j.patcog.2019.05.024 . hal-02135580\n",
    "\n",
    "**PLEASE NOTE that the below is informed by Scikit-Learn documentation/examples (primarily the third link below), and the following book:**\n",
    "\n",
    "Aurelien Geron. *Hands-on Machine Learning with Scikit-Learn, Keras & Tensorflow: Concepts, Tools, and Techniques to Build Intelligent Systems* (Sebastopol, CA: O'Reilly Media, Inc., 2019)."
   ]
  },
  {
   "cell_type": "markdown",
   "metadata": {},
   "source": [
    "### Useful links:\n",
    "- https://scikit-learn.org/stable/datasets/index.html#sample-generators\n",
    "- https://scikit-learn.org/stable/modules/clustering.html\n",
    "- **CLUSTER COMPARISON NOTEBOOK** https://scikit-learn.org/stable/auto_examples/cluster/plot_cluster_comparison.html"
   ]
  },
  {
   "cell_type": "markdown",
   "metadata": {},
   "source": [
    "### Imports"
   ]
  },
  {
   "cell_type": "code",
   "execution_count": null,
   "metadata": {},
   "outputs": [],
   "source": [
    "from itertools import cycle, islice\n",
    "\n",
    "%matplotlib inline\n",
    "import matplotlib.pyplot as plt\n",
    "import numpy as np\n",
    "from sklearn.cluster import MiniBatchKMeans, AgglomerativeClustering, AffinityPropagation, DBSCAN, Birch\n",
    "from sklearn.datasets import make_moons, make_circles, make_blobs "
   ]
  },
  {
   "cell_type": "markdown",
   "metadata": {},
   "source": [
    "## Data:"
   ]
  },
  {
   "cell_type": "markdown",
   "metadata": {},
   "source": [
    "### Circles, Moons, Blobs and Random"
   ]
  },
  {
   "cell_type": "code",
   "execution_count": null,
   "metadata": {},
   "outputs": [],
   "source": [
    "num_samples = 1500 # As used in DyClee paper (page 18)\n",
    "\n",
    "# Below dataset parameters are used from the CLUSTER COMPARISON NOTEBOOK, as it appears\n",
    "# the DyClee authors used the same parameters\n",
    "np.random.seed(0)\n",
    "\n",
    "# sklearn.datasets.make_circles(n_samples=100, *, shuffle=True, noise=None,\n",
    "# random_state=None, factor=0.8)\n",
    "X_circles, Y_true_circles = make_circles(num_samples, factor=.5, noise=.05)\n",
    "\n",
    "# sklearn.datasets.make_moons(n_samples=100, *, shuffle=True, noise=None,\n",
    "# random_state=None)\n",
    "X_moons, Y_true_moons = make_moons(num_samples, noise=.05)\n",
    "\n",
    "# sklearn.datasets.make_blobs(n_samples=100, n_features=2, *, centers=None,\n",
    "# cluster_std=1.0, center_box=(-10.0, 10.0), shuffle=True, random_state=None,\n",
    "# return_centers=False)\n",
    "X_blobs, Y_true_blobs = make_blobs(num_samples, random_state=8)\n",
    "\n",
    "# Random data\n",
    "X_random, Y_true_random = np.random.rand(num_samples, 2), np.zeros((num_samples, 1), dtype=np.uint8)"
   ]
  },
  {
   "cell_type": "code",
   "execution_count": null,
   "metadata": {
    "scrolled": false
   },
   "outputs": [],
   "source": [
    "# BELOW COLOR CODE IS USED FROM CLUSTER COMPARISON NOTEBOOK\n",
    "colors = np.array(list(islice(cycle(['#377eb8', '#ff7f00', '#4daf4a',\n",
    "                                    '#f781bf', '#a65628', '#984ea3',\n",
    "                                    '#999999', '#e41a1c', '#dede00']),\n",
    "                                    int(max(Y_true_blobs) + 1))))\n",
    "# add black color for outliers (if any)\n",
    "colors = np.append(colors, [\"#000000\"])\n",
    "\n",
    "# Plot the synthetic data\n",
    "fig, axs = plt.subplots(2,2, figsize=(10,10))\n",
    "fig.suptitle(\"Circles, Moons, Blobs and Random\")\n",
    "axs[0,0].scatter(X_circles[:,0], X_circles[:,1], s=10, color=colors[Y_true_circles])\n",
    "axs[0,1].scatter(X_moons[:,0], X_moons[:,1], s=10, color=colors[Y_true_moons])\n",
    "axs[1,0].scatter(X_blobs[:,0], X_blobs[:,1], s=10, color=colors[Y_true_blobs])\n",
    "axs[1,1].scatter(X_random[:,0], X_random[:,1], s=10, color=colors[0])"
   ]
  },
  {
   "cell_type": "markdown",
   "metadata": {},
   "source": [
    "## Algorithms:"
   ]
  },
  {
   "cell_type": "code",
   "execution_count": null,
   "metadata": {},
   "outputs": [],
   "source": []
  },
  {
   "cell_type": "markdown",
   "metadata": {},
   "source": [
    "## Real-Time Plotting:"
   ]
  },
  {
   "cell_type": "code",
   "execution_count": null,
   "metadata": {},
   "outputs": [],
   "source": []
  },
  {
   "cell_type": "markdown",
   "metadata": {},
   "source": [
    "## Time-Series Data:"
   ]
  },
  {
   "cell_type": "code",
   "execution_count": null,
   "metadata": {},
   "outputs": [],
   "source": []
  }
 ],
 "metadata": {
  "kernelspec": {
   "display_name": "Python 3",
   "language": "python",
   "name": "python3"
  },
  "language_info": {
   "codemirror_mode": {
    "name": "ipython",
    "version": 3
   },
   "file_extension": ".py",
   "mimetype": "text/x-python",
   "name": "python",
   "nbconvert_exporter": "python",
   "pygments_lexer": "ipython3",
   "version": "3.8.5"
  }
 },
 "nbformat": 4,
 "nbformat_minor": 4
}
