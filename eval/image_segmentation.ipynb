{
 "cells": [
  {
   "cell_type": "markdown",
   "metadata": {},
   "source": [
    "# Image Segmentation by Clustering\n",
    "\n",
    "**Date Created: 12/6/2020**\n",
    "\n",
    "**The purpose of this notebook is to experiment with image segmentation using clustering algorithms, comparing DyClee's performance against the clustering algorithms implemented in Scikit-Learn that were referenced in the paper:**\n",
    "\n",
    "Nathalie Barbosa Roa, Louise Travé-Massuyès, Victor Hugo Grisales. DyClee: Dynamic clustering for tracking evolving environments. Pattern Recognition, Elsevier, 2019, 94, pp.162-186. 10.1016/j.patcog.2019.05.024 . hal-02135580\n",
    "\n",
    "**NOTE: This notebook is partially informed by the segmentation demonstration on pages 249-251 in:**\n",
    "\n",
    "Aurelien Geron. Hands-on Machine Learning with Scikit-Learn, Keras & Tensorflow: Concepts, Tools, and Techniques to Build Intelligent Systems (Sebastopol, CA: O'Reilly Media, Inc., 2019)."
   ]
  },
  {
   "cell_type": "code",
   "execution_count": null,
   "metadata": {},
   "outputs": [],
   "source": [
    "import matplotlib.pyplot as plt\n",
    "%matplotlib inline\n",
    "import numpy as np\n",
    "from sklearn.cluster import MiniBatchKMeans, AgglomerativeClustering, AffinityPropagation, DBSCAN, Birch\n",
    "from sklearn.datasets import load_sample_images"
   ]
  },
  {
   "cell_type": "code",
   "execution_count": null,
   "metadata": {},
   "outputs": [],
   "source": [
    "# Normalize to range 0 - 1.0\n",
    "def normalize(img):\n",
    "    return img.astype(np.float64) / 255.0\n",
    "\n",
    "# Augment with spatial information - pixel location (y, x - aka row, col)\n",
    "# @param img    A NORMALIZED image.\n",
    "def augment_location(img):\n",
    "    shape = img.shape\n",
    "    rows = np.arange(shape[0])\n",
    "    cols = np.arange(shape[1])\n",
    "    yi, xj = np.meshgrid(rows, cols, indexing='ij')\n",
    "    yi = yi.astype(np.float64) / shape[0]\n",
    "    xj = xj.astype(np.float64) / shape[1]\n",
    "    if len(shape) == 2: # Grayscale\n",
    "        return np.stack((yi, xj, img), axis=-1)\n",
    "    else:\n",
    "        yi = np.expand_dims(yi, axis=2)\n",
    "        xj = np.expand_dims(xj, axis=2)\n",
    "        return np.concatenate((yi, xj, img), axis=-1)\n",
    "        \n",
    "    \n",
    "# Flatten to treat pixels as instances\n",
    "def flatten_img(img):\n",
    "    if len(img.shape) == 2: # Grayscale\n",
    "        return img.flatten()\n",
    "    else:\n",
    "        dims = img.shape[-1]\n",
    "        return img.reshape(-1, dims)"
   ]
  },
  {
   "cell_type": "markdown",
   "metadata": {},
   "source": [
    "### Load Sample Images from Scikit-Learn"
   ]
  },
  {
   "cell_type": "code",
   "execution_count": null,
   "metadata": {},
   "outputs": [],
   "source": [
    "dataset = load_sample_images()\n",
    "china, flower = dataset.images\n",
    "sk_sample_shape = china.shape\n",
    "print(sk_sample_shape)\n",
    "print(china.dtype)\n",
    "fig, ax = plt.subplots(1,2, figsize=(25,25))\n",
    "ax[0].imshow(china)\n",
    "ax[1].imshow(flower)"
   ]
  },
  {
   "cell_type": "markdown",
   "metadata": {},
   "source": [
    "### Mini-Batch K-Means"
   ]
  },
  {
   "cell_type": "markdown",
   "metadata": {},
   "source": [
    "#### Only Colors"
   ]
  },
  {
   "cell_type": "code",
   "execution_count": null,
   "metadata": {},
   "outputs": [],
   "source": [
    "china_norm = normalize(china)\n",
    "flower_norm = normalize(flower)\n",
    "\n",
    "num_clusters = [2 ** x for x in range(5)]\n",
    "fig, ax = plt.subplots(2, len(num_clusters), figsize=(25, 10))\n",
    "\n",
    "china_flat = flatten_img(china_norm)\n",
    "for i, num in enumerate(num_clusters):\n",
    "    # THIS IS BASED ON THE DEMONSTRATION IN THE GERON BOOK - SEE PAGE 250\n",
    "    china_km = MiniBatchKMeans(n_clusters=num).fit(china_flat)\n",
    "    result = china_km.cluster_centers_[china_km.labels_]\n",
    "    result = result.reshape(china.shape)\n",
    "    ax[0,i].imshow(result)\n",
    "    \n",
    "flower_flat = flatten_img(flower_norm)\n",
    "for i, num in enumerate(num_clusters):\n",
    "    flower_km = MiniBatchKMeans(n_clusters=num).fit(flower_flat)\n",
    "    result = flower_km.cluster_centers_[flower_km.labels_]\n",
    "    result = result.reshape(flower.shape)\n",
    "    ax[1,i].imshow(result)"
   ]
  },
  {
   "cell_type": "markdown",
   "metadata": {},
   "source": [
    "#### Augmented with Locations"
   ]
  },
  {
   "cell_type": "code",
   "execution_count": null,
   "metadata": {},
   "outputs": [],
   "source": [
    "china_aug = augment_location(china_norm)\n",
    "flower_aug = augment_location(flower_norm)\n",
    "\n",
    "num_clusters = [2 ** x for x in range(5)]\n",
    "fig, ax = plt.subplots(2, len(num_clusters), figsize=(25, 10))\n",
    "\n",
    "china_flat = flatten_img(china_aug)\n",
    "for i, num in enumerate(num_clusters):\n",
    "    china_km = MiniBatchKMeans(n_clusters=num).fit(china_flat)\n",
    "    result = china_km.cluster_centers_[china_km.labels_]\n",
    "    aug_shape = (china.shape[0], china.shape[1], 5)\n",
    "    result = result.reshape(aug_shape)\n",
    "    result = result[:,:,2:]\n",
    "    ax[0,i].imshow(result)\n",
    "    \n",
    "flower_flat = flatten_img(flower_aug)\n",
    "for i, num in enumerate(num_clusters):\n",
    "    flower_km = MiniBatchKMeans(n_clusters=num).fit(flower_flat)\n",
    "    result = flower_km.cluster_centers_[flower_km.labels_]\n",
    "    aug_shape = (flower.shape[0], flower.shape[1], 5)\n",
    "    result = result.reshape(aug_shape)\n",
    "    result = result[:,:,2:]\n",
    "    ax[1,i].imshow(result)"
   ]
  }
 ],
 "metadata": {
  "kernelspec": {
   "display_name": "Python 3",
   "language": "python",
   "name": "python3"
  },
  "language_info": {
   "codemirror_mode": {
    "name": "ipython",
    "version": 3
   },
   "file_extension": ".py",
   "mimetype": "text/x-python",
   "name": "python",
   "nbconvert_exporter": "python",
   "pygments_lexer": "ipython3",
   "version": "3.8.5"
  }
 },
 "nbformat": 4,
 "nbformat_minor": 4
}
