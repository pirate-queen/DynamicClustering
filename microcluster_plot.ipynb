{
 "cells": [
  {
   "cell_type": "code",
   "execution_count": 1,
   "metadata": {},
   "outputs": [],
   "source": [
    "from itertools import cycle, islice, product \n",
    "\n",
    "from DyClee.algorithms import *\n",
    "from DyClee.plotting import * \n",
    "import warnings\n",
    "import matplotlib.pyplot as plt\n",
    "from matplotlib.patches import Rectangle\n",
    "%matplotlib inline\n",
    "import numpy as np\n",
    "import pandas as pd\n",
    "import seaborn as sns\n",
    "\n",
    "from sklearn.preprocessing import StandardScaler\n",
    "from sklearn.datasets import make_moons, make_circles, make_blobs"
   ]
  },
  {
   "cell_type": "code",
   "execution_count": 34,
   "metadata": {},
   "outputs": [],
   "source": [
    "# Load and initialize data \n",
    "\n",
    "# As used in DyClee paper (page 18)\n",
    "num_samples = 1500 \n",
    "\n",
    "np.random.seed(0)\n",
    "\n",
    "# sklearn.datasets.make_circles(n_samples=100, *, shuffle=True, noise=None,\n",
    "# random_state=None, factor=0.8)\n",
    "#X_circles, y_circles = make_circles(num_samples, factor=.5, noise=.05)\n",
    "circles = make_circles(num_samples, factor=.5, noise=.05)\n",
    "\n",
    "\n",
    "# sklearn.datasets.make_moons(n_samples=100, *, shuffle=True, noise=None,\n",
    "# random_state=None)\n",
    "#X_moon, y_moon = make_moons(num_samples, noise=.05)\n",
    "moon = make_moons(num_samples, noise=.05)\n",
    "\n",
    "# sklearn.datasets.make_blobs(n_samples=100, n_features=2, *, centers=None,\n",
    "# cluster_std=1.0, center_box=(-10.0, 10.0), shuffle=True, random_state=None,\n",
    "# return_centers=False)\n",
    "#X_blobs, y_blobs = make_blobs(num_samples, random_state=8)\n",
    "blobs = make_blobs(num_samples, random_state=8)\n",
    "\n",
    "# Random data\n",
    "#X_random, y_random = np.random.rand(num_samples, 2), np.zeros((num_samples, 1), dtype=np.uint8)\n",
    "random_data = np.random.rand(num_samples, 2), np.zeros((num_samples, 1), dtype=np.uint8)\n",
    "\n",
    "# Store all datasets into a list along with the specified number of clusters for each\n",
    "datsets = [(circles, 2), (moon, 2), (blobs, 3), (random_data, 1)]"
   ]
  },
  {
   "cell_type": "code",
   "execution_count": 35,
   "metadata": {},
   "outputs": [],
   "source": [
    "# Make blobs data \n",
    "X, y = make_blobs(1500, random_state=8)"
   ]
  },
  {
   "cell_type": "code",
   "execution_count": 36,
   "metadata": {},
   "outputs": [],
   "source": [
    "# Context matrix\n",
    "context = get_context_matrix(X)"
   ]
  },
  {
   "cell_type": "code",
   "execution_count": 37,
   "metadata": {},
   "outputs": [],
   "source": [
    "# Create dyclee class object \n",
    "dyclee = SerialDyClee(phi=0.06, context=context)"
   ]
  },
  {
   "cell_type": "code",
   "execution_count": 38,
   "metadata": {},
   "outputs": [
    {
     "name": "stdout",
     "output_type": "stream",
     "text": [
      "Wall time: 1.06 s\n"
     ]
    }
   ],
   "source": [
    "%%time\n",
    "\n",
    "# Run dyclee\n",
    "#dyclee.run_dataset(data=X, targetcol=y)\n",
    "dyclee.run_dataset(data=X)"
   ]
  },
  {
   "cell_type": "code",
   "execution_count": 39,
   "metadata": {},
   "outputs": [
    {
     "name": "stdout",
     "output_type": "stream",
     "text": [
      "There are 65 microclusters\n"
     ]
    }
   ],
   "source": [
    "# combine all clusters \n",
    "all_uC = dyclee.A_list + dyclee.O_list\n",
    "print('There are',len(all_uC),'microclusters')"
   ]
  },
  {
   "cell_type": "code",
   "execution_count": 40,
   "metadata": {},
   "outputs": [],
   "source": [
    "# plot microclusters and hyperboxes \n",
    "plot_hyperboxes(all_uC, dyclee._get_hyperbox_sizes())"
   ]
  },
  {
   "cell_type": "code",
   "execution_count": 41,
   "metadata": {},
   "outputs": [
    {
     "data": {
      "image/png": "[encoded data removed]",
      "text/plain": [
       "<Figure size 432x288 with 1 Axes>"
      ]
     },
     "metadata": {
      "needs_background": "light"
     },
     "output_type": "display_data"
    }
   ],
   "source": [
    "# plot density pf microclusters \n"
   ]
  },
  {
   "cell_type": "code",
   "execution_count": null,
   "metadata": {},
   "outputs": [],
   "source": []
  }
 ],
 "metadata": {
  "kernelspec": {
   "display_name": "Python 3",
   "language": "python",
   "name": "python3"
  },
  "language_info": {
   "codemirror_mode": {
    "name": "ipython",
    "version": 3
   },
   "file_extension": ".py",
   "mimetype": "text/x-python",
   "name": "python",
   "nbconvert_exporter": "python",
   "pygments_lexer": "ipython3",
   "version": "3.8.5"
  }
 },
 "nbformat": 4,
 "nbformat_minor": 4
}
