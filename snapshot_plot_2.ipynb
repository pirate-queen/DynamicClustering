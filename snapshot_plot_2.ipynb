{
 "cells": [
  {
   "cell_type": "code",
   "execution_count": null,
   "metadata": {},
   "outputs": [],
   "source": [
    "from itertools import cycle, islice, product \n",
    "\n",
    "from DyClee.algorithms import * \n",
    "import warnings\n",
    "import matplotlib.pyplot as plt\n",
    "from matplotlib.patches import Rectangle\n",
    "%matplotlib inline\n",
    "import numpy as np\n",
    "import pandas as pd\n",
    "import seaborn as sns\n",
    "from copy import deepcopy\n",
    "\n",
    "from sklearn.preprocessing import StandardScaler\n",
    "from sklearn.datasets import make_moons, make_circles, make_blobs"
   ]
  },
  {
   "cell_type": "code",
   "execution_count": null,
   "metadata": {},
   "outputs": [],
   "source": [
    "# function to return Xmin and ymin for rectangle parameters\n",
    "def hyperbox_coordinates(uC, sizes):     \n",
    "    center = uC.get_center() \n",
    "    Xmin = (center[0] - sizes[0]/2)\n",
    "    ymin = (center[1] - sizes[1]/2)\n",
    "    return (Xmin, ymin)"
   ]
  },
  {
   "cell_type": "code",
   "execution_count": null,
   "metadata": {
    "scrolled": true
   },
   "outputs": [],
   "source": [
    "# Make moons data\n",
    "np.random.seed(0)\n",
    "n_samples = 1500\n",
    "colors = np.array(['#377eb8', '#ff7f00'])\n",
    "X,y = make_circles(n_samples, factor=.5, noise=.05)\n",
    "X, y = make_moons(n_samples, noise=.05)\n",
    "X = np.random.rand(n_samples, 2)\n",
    "X = np.random.rand(n_samples, 2)\n",
    "X = StandardScaler().fit_transform(X)\n",
    "plt.scatter(X[:,0], X[:,1], s=10, color=colors[0])\n",
    "plt.xlim(-2.5, 2.5)\n",
    "plt.ylim(-2.5, 2.5)\n",
    "# plt.gca().set_aspect('equal')"
   ]
  },
  {
   "cell_type": "code",
   "execution_count": null,
   "metadata": {},
   "outputs": [],
   "source": [
    "# Context matrix\n",
    "context = np.vstack([X.min(axis=0), X.max(axis=0)])"
   ]
  },
  {
   "cell_type": "code",
   "execution_count": null,
   "metadata": {},
   "outputs": [],
   "source": [
    "# Create dyclee class object \n",
    "dyclee = SerialDyClee(phi=0.06, context=context)"
   ]
  },
  {
   "cell_type": "code",
   "execution_count": null,
   "metadata": {},
   "outputs": [],
   "source": [
    "%%time\n",
    "\n",
    "# Run dyclee\n",
    "#dyclee.run_dataset(data=X, targetcol=y)\n",
    "dyclee.run_dataset(data=X)"
   ]
  },
  {
   "cell_type": "code",
   "execution_count": null,
   "metadata": {},
   "outputs": [],
   "source": [
    "# combine all clusters \n",
    "all_uC = dyclee.A_list + dyclee.O_list\n",
    "\n",
    "print('There are',len(all_uC),'microclusters')\n",
    "print('Dense & Semi-dense total:',len(dyclee.A_list))\n",
    "print('Low dense total:', len(dyclee.O_list))"
   ]
  },
  {
   "cell_type": "code",
   "execution_count": null,
   "metadata": {},
   "outputs": [],
   "source": [
    "# Plot hyperboxes \n",
    "\n",
    "# create dataframe\n",
    "cluster_df = pd.DataFrame([uC.get_center() for uC in all_uC], columns=['x', 'y'])\n",
    "\n",
    "# hyperbox sizes \n",
    "sizes = dyclee._get_hyperbox_sizes()\n",
    "\n",
    "\n",
    "print(\"the hyperbox size is: \", sizes)\n",
    "# plot microclusters\n",
    "sns.scatterplot(x='x',y='y',data=cluster_df)\n",
    "plt.gca().set_aspect('equal')\n",
    "\n",
    "# plot hyperboxes\n",
    "for uC in all_uC: \n",
    "    xy = hyperbox_coordinates(uC, sizes)\n",
    "    plt.gca().add_patch(Rectangle(xy,sizes[0],sizes[1],linewidth=0.5,edgecolor='r',facecolor='none', clip_on=False))\n"
   ]
  },
  {
   "cell_type": "code",
   "execution_count": null,
   "metadata": {},
   "outputs": [],
   "source": [
    "# Plot density  \n",
    "\n",
    "# Graph legend  \n",
    "# Dense = 0\n",
    "# Semi-Dense = 1\n",
    "# Low-Dense = 2\n",
    "\n",
    "# create dataframe       \n",
    "cluster_df = pd.DataFrame([np.append(uC.get_center(), np.array([uC.density_type]), 0) for uC in all_uC], columns=['x', 'y', 'z'])\n",
    "\n",
    "# Change string values to ints\n",
    "cluster_df.loc[(cluster_df.z == 'Dense'),'z']= int(0)\n",
    "cluster_df.loc[(cluster_df.z == 'Semi-Dense'),'z']=int(1)\n",
    "cluster_df.loc[(cluster_df.z == 'Low-Density'),'z']=int(2)\n",
    "\n",
    "# Re-format column types \n",
    "cluster_df = cluster_df.infer_objects()\n",
    "cluster_df['x'] = cluster_df['x'].astype(float)\n",
    "cluster_df['y'] = cluster_df['y'].astype(float)\n",
    "cluster_df['z'] = cluster_df['z'].astype(np.int64)\n",
    "\n",
    "# plot microclusters\n",
    "sns.scatterplot(x='x',y='y',hue=\"z\",data=cluster_df)\n",
    "plt.gca().set_aspect('equal')\n",
    "\n",
    "# plot hyberboxes\n",
    "# hyperbox sizes \n",
    "#sizes = dyclee._get_hyperbox_sizes()\n",
    "#print(\"the hyperbox size is: \", sizes)\n",
    "#for uC in all_uC: \n",
    "#    xy = hyperbox_coordinates(uC, sizes)\n",
    "#    plt.gca().add_patch(Rectangle(xy,sizes[0],sizes[1],linewidth=0.5,edgecolor='r',facecolor='none', clip_on=False))\n"
   ]
  },
  {
   "cell_type": "code",
   "execution_count": null,
   "metadata": {
    "scrolled": false
   },
   "outputs": [],
   "source": [
    "# plot snapshots\n",
    "\n",
    "snapshot_ordered = {}\n",
    "\n",
    "for order, timestamps in dyclee.snapshots.items(): \n",
    "    for timestamp, cluster_lists in timestamps.items(): \n",
    "        snapshot_ordered[timestamp] = cluster_lists\n",
    "        \n",
    "timestamp_order = sorted(snapshot_ordered) \n",
    "\n",
    "fig, axes = plt.subplots(len(timestamp_order), 2, sharex='col', sharey='row', figsize=(20,600))\n",
    "cols = [\"FinalClusters\", \"MicroClusters\"]\n",
    "for ax, col in zip(axes[0], cols): ax.set_title(col)\n",
    "\n",
    "for i, t in enumerate(timestamp_order): \n",
    "    final_list = snapshot_ordered[t]['final']\n",
    "    micro_list = snapshot_ordered[t]['all']\n",
    "\n",
    "    # plot final cluster\n",
    "    final_df = pd.DataFrame([np.append(uC.center, [uC.label], 0) for uC in final_list], columns=['x', 'y', 'class'])\n",
    "    sns.scatterplot(ax=axes[i][0], x='x',y='y',hue='class',data=final_df).legend(loc='lower left', bbox_to_anchor=(1.05,0), ncol=1)\n",
    "    axes[i][0].set_ylabel(t, rotation=0, size='xx-large', weight='bold')\n",
    "    \n",
    "    # plot micro clusters \n",
    "    micro_df = pd.DataFrame([np.append(uC.get_center(), [uC.Classk], 0) for uC in micro_list], columns=['x', 'y', 'class'])\n",
    "    sns.scatterplot(ax=axes[i][1], x='x',y='y',hue='class',data=micro_df).legend(loc='lower left', bbox_to_anchor=(1.05,0), ncol=1)\n",
    "\n",
    "fig.tight_layout"
   ]
  },
  {
   "cell_type": "code",
   "execution_count": null,
   "metadata": {
    "scrolled": false
   },
   "outputs": [],
   "source": [
    "# plot snapshots with classes displayed on each point\n",
    "\n",
    "snapshot_ordered = {}\n",
    "\n",
    "for order, timestamps in dyclee.snapshots.items(): \n",
    "    for timestamp, cluster_lists in timestamps.items(): \n",
    "        snapshot_ordered[timestamp] = cluster_lists\n",
    "        \n",
    "timestamp_order = sorted(snapshot_ordered) \n",
    "\n",
    "fig, axes = plt.subplots(len(timestamp_order), 2, sharex='col', sharey='row', figsize=(20,600))\n",
    "cols = [\"FinalClusters\", \"MicroClusters\"]\n",
    "for ax, col in zip(axes[0], cols): ax.set_title(col)\n",
    "\n",
    "for i, t in enumerate(timestamp_order): \n",
    "    final_list = snapshot_ordered[t]['final']\n",
    "    micro_list = snapshot_ordered[t]['all']\n",
    "\n",
    "    # plot final cluster\n",
    "    final_df = pd.DataFrame([np.append(uC.center, [uC.label], 0) for uC in final_list], columns=['x', 'y', 'class'])\n",
    "    f_plot = sns.scatterplot(ax=axes[i][0], x='x',y='y',hue='class',data=final_df)\n",
    "    f_plot.legend(loc='lower left', bbox_to_anchor=(1.05,0), ncol=1)\n",
    "    for line in range(0,final_df.shape[0]): \n",
    "        f_plot.text(final_df['x'][line], final_df['y'][line], final_df['class'][line], horizontalalignment='left', size='medium', color='black', weight='normal')\n",
    "    axes[i][0].set_ylabel(t, rotation=0, size='xx-large', weight='bold')\n",
    "    \n",
    "    # plot micro clusters \n",
    "    micro_df = pd.DataFrame([np.append(uC.get_center(), [uC.Classk], 0) for uC in micro_list], columns=['x', 'y', 'class'])\n",
    "    m_plot = sns.scatterplot(ax=axes[i][1], x='x',y='y',hue='class',data=micro_df)\n",
    "    m_plot.legend(loc='lower left', bbox_to_anchor=(1.05,0), ncol=1)\n",
    "    for line in range(0,micro_df.shape[0]): \n",
    "        if micro_df['class'][line] != 'Unclassed': \n",
    "            m_plot.text(micro_df['x'][line], micro_df['y'][line], micro_df['class'][line], horizontalalignment='left', size='medium', color='black', weight='normal')\n",
    "    \n",
    "\n",
    "fig.tight_layout"
   ]
  },
  {
   "cell_type": "code",
   "execution_count": null,
   "metadata": {},
   "outputs": [],
   "source": []
  },
  {
   "cell_type": "code",
   "execution_count": null,
   "metadata": {},
   "outputs": [],
   "source": []
  }
 ],
 "metadata": {
  "kernelspec": {
   "display_name": "Python 3",
   "language": "python",
   "name": "python3"
  },
  "language_info": {
   "codemirror_mode": {
    "name": "ipython",
    "version": 3
   },
   "file_extension": ".py",
   "mimetype": "text/x-python",
   "name": "python",
   "nbconvert_exporter": "python",
   "pygments_lexer": "ipython3",
   "version": "3.8.5"
  }
 },
 "nbformat": 4,
 "nbformat_minor": 4
}
