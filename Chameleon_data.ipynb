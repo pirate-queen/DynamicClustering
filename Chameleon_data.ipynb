{
 "cells": [
  {
   "cell_type": "code",
   "execution_count": null,
   "metadata": {},
   "outputs": [],
   "source": [
    "import pandas as pd\n",
    "import scipy.stats as st\n",
    "import matplotlib.pyplot as plt\n",
    "import numpy as np\n",
    "import seaborn as sns\n",
    "from algorithms import *\n",
    "\n",
    "cham1 = pd.read_csv('chameleon-1.csv',sep=\",\")\n",
    "cham1.columns = ['x','y']\n",
    "cham1 = cham1.to_numpy(np.float64)"
   ]
  },
  {
   "cell_type": "code",
   "execution_count": null,
   "metadata": {},
   "outputs": [],
   "source": [
    "# Context matrix\n",
    "context = np.vstack([cham1.min(axis=0), cham1.max(axis=0)])"
   ]
  },
  {
   "cell_type": "code",
   "execution_count": null,
   "metadata": {},
   "outputs": [],
   "source": [
    "# Create dyclee class object \n",
    "dyclee = SerialDyClee(phi=0.06, context=context)"
   ]
  },
  {
   "cell_type": "code",
   "execution_count": null,
   "metadata": {},
   "outputs": [],
   "source": [
    "# Run dataset\n",
    "%%time\n",
    "dyclee.run_dataset(data=cham1)"
   ]
  },
  {
   "cell_type": "code",
   "execution_count": null,
   "metadata": {},
   "outputs": [],
   "source": [
    "# combine all clusters \n",
    "all_uC = dyclee.A_list + dyclee.O_list\n",
    "\n",
    "print('There are',len(all_uC),'microclusters')\n",
    "print('Dense & Semi-dense total:',len(dyclee.A_list))\n",
    "print('Low dense total:', len(dyclee.O_list))"
   ]
  },
  {
   "cell_type": "code",
   "execution_count": null,
   "metadata": {},
   "outputs": [],
   "source": [
    "# Plot hyperboxes \n",
    "\n",
    "# create dataframe\n",
    "cluster_df = pd.DataFrame([uC.get_center() for uC in all_uC], columns=['x', 'y'])\n",
    "\n",
    "# hyperbox sizes \n",
    "sizes = dyclee._get_hyperbox_sizes()\n",
    "\n",
    "\n",
    "print(\"the hyperbox size is: \", sizes)\n",
    "# plot microclusters\n",
    "sns.scatterplot(x='x',y='y',data=cluster_df)\n",
    "plt.gca().set_aspect('equal')\n",
    "\n",
    "# plot hyperboxes\n",
    "for uC in all_uC: \n",
    "    xy = hyperbox_coordinates(uC, sizes)\n",
    "    plt.gca().add_patch(Rectangle(xy,sizes[0],sizes[1],linewidth=0.5,edgecolor='r',facecolor='none', clip_on=False))"
   ]
  },
  {
   "cell_type": "code",
   "execution_count": null,
   "metadata": {},
   "outputs": [],
   "source": [
    "# Plot density  \n",
    "\n",
    "# Graph legend  \n",
    "# Dense = 0\n",
    "# Semi-Dense = 1\n",
    "# Low-Dense = 2\n",
    "\n",
    "# create dataframe       \n",
    "cluster_df = pd.DataFrame([np.append(uC.get_center(), np.array([uC.density_type]), 0) for uC in all_uC], columns=['x', 'y', 'z'])\n",
    "\n",
    "# Change string values to ints\n",
    "cluster_df.loc[(cluster_df.z == 'Dense'),'z']= int(0)\n",
    "cluster_df.loc[(cluster_df.z == 'Semi-Dense'),'z']=int(1)\n",
    "cluster_df.loc[(cluster_df.z == 'Low-Density'),'z']=int(2)\n",
    "\n",
    "# Re-format column types \n",
    "cluster_df = cluster_df.infer_objects()\n",
    "cluster_df['x'] = cluster_df['x'].astype(float)\n",
    "cluster_df['y'] = cluster_df['y'].astype(float)\n",
    "cluster_df['z'] = cluster_df['z'].astype(np.int64)\n",
    "\n",
    "# plot microclusters\n",
    "sns.scatterplot(x='x',y='y',hue=\"z\",data=cluster_df)\n",
    "plt.gca().set_aspect('equal')"
   ]
  },
  {
   "cell_type": "code",
   "execution_count": null,
   "metadata": {},
   "outputs": [],
   "source": [
    "# plot snapshots\n",
    "\n",
    "snapshot_ordered = {}\n",
    "\n",
    "for order, timestamps in dyclee.snapshots.items(): \n",
    "    for timestamp, cluster_lists in timestamps.items(): \n",
    "        snapshot_ordered[timestamp] = cluster_lists\n",
    "        \n",
    "timestamp_order = sorted(snapshot_ordered) \n",
    "\n",
    "fig, axes = plt.subplots(len(timestamp_order), 2, sharex='col', sharey='row', figsize=(20,600))\n",
    "cols = [\"FinalClusters\", \"MicroClusters\"]\n",
    "for ax, col in zip(axes[0], cols): ax.set_title(col)\n",
    "\n",
    "for i, t in enumerate(timestamp_order): \n",
    "    final_list = snapshot_ordered[t]['final']\n",
    "    micro_list = snapshot_ordered[t]['all']\n",
    "\n",
    "    # plot final cluster\n",
    "    final_df = pd.DataFrame([np.append(uC.center, [uC.label], 0) for uC in final_list], columns=['x', 'y', 'class'])\n",
    "    sns.scatterplot(ax=axes[i][0], x='x',y='y',hue='class',data=final_df).legend(loc='lower left', bbox_to_anchor=(1.05,0), ncol=1)\n",
    "    axes[i][0].set_ylabel(t, rotation=0, size='xx-large', weight='bold')\n",
    "    \n",
    "    # plot micro clusters \n",
    "    micro_df = pd.DataFrame([np.append(uC.get_center(), [uC.Classk], 0) for uC in micro_list], columns=['x', 'y', 'class'])\n",
    "    sns.scatterplot(ax=axes[i][1], x='x',y='y',hue='class',data=micro_df).legend(loc='lower left', bbox_to_anchor=(1.05,0), ncol=1)\n",
    "\n",
    "fig.tight_layout"
   ]
  },
  {
   "cell_type": "code",
   "execution_count": null,
   "metadata": {},
   "outputs": [],
   "source": [
    "# plot snapshots with classes displayed on each point\n",
    "\n",
    "snapshot_ordered = {}\n",
    "\n",
    "for order, timestamps in dyclee.snapshots.items(): \n",
    "    for timestamp, cluster_lists in timestamps.items(): \n",
    "        snapshot_ordered[timestamp] = cluster_lists\n",
    "        \n",
    "timestamp_order = sorted(snapshot_ordered) \n",
    "\n",
    "fig, axes = plt.subplots(len(timestamp_order), 2, sharex='col', sharey='row', figsize=(20,600))\n",
    "cols = [\"FinalClusters\", \"MicroClusters\"]\n",
    "for ax, col in zip(axes[0], cols): ax.set_title(col)\n",
    "\n",
    "for i, t in enumerate(timestamp_order): \n",
    "    final_list = snapshot_ordered[t]['final']\n",
    "    micro_list = snapshot_ordered[t]['all']\n",
    "\n",
    "    # plot final cluster\n",
    "    final_df = pd.DataFrame([np.append(uC.center, [uC.label], 0) for uC in final_list], columns=['x', 'y', 'class'])\n",
    "    f_plot = sns.scatterplot(ax=axes[i][0], x='x',y='y',hue='class',data=final_df)\n",
    "    f_plot.legend(loc='lower left', bbox_to_anchor=(1.05,0), ncol=1)\n",
    "    for line in range(0,final_df.shape[0]): \n",
    "        f_plot.text(final_df['x'][line], final_df['y'][line], final_df['class'][line], horizontalalignment='left', size='medium', color='black', weight='normal')\n",
    "    axes[i][0].set_ylabel(t, rotation=0, size='xx-large', weight='bold')\n",
    "    \n",
    "    # plot micro clusters \n",
    "    micro_df = pd.DataFrame([np.append(uC.get_center(), [uC.Classk], 0) for uC in micro_list], columns=['x', 'y', 'class'])\n",
    "    m_plot = sns.scatterplot(ax=axes[i][1], x='x',y='y',hue='class',data=micro_df)\n",
    "    m_plot.legend(loc='lower left', bbox_to_anchor=(1.05,0), ncol=1)\n",
    "    for line in range(0,micro_df.shape[0]): \n",
    "        if micro_df['class'][line] != 'Unclassed': \n",
    "            m_plot.text(micro_df['x'][line], micro_df['y'][line], micro_df['class'][line], horizontalalignment='left', size='medium', color='black', weight='normal')\n",
    "    \n",
    "\n",
    "fig.tight_layout"
   ]
  }
 ],
 "metadata": {
  "kernelspec": {
   "display_name": "Python 3",
   "language": "python",
   "name": "python3"
  },
  "language_info": {
   "codemirror_mode": {
    "name": "ipython",
    "version": 3
   },
   "file_extension": ".py",
   "mimetype": "text/x-python",
   "name": "python",
   "nbconvert_exporter": "python",
   "pygments_lexer": "ipython3",
   "version": "3.8.3"
  }
 },
 "nbformat": 4,
 "nbformat_minor": 4
}
