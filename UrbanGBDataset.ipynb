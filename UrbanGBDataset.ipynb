{
 "cells": [
  {
   "cell_type": "markdown",
   "metadata": {},
   "source": [
    "# UrbanGB Dataset"
   ]
  },
  {
   "cell_type": "markdown",
   "metadata": {},
   "source": [
    "- **Dataset Paper**: C. Baldassi, 'Recombinator-k-means: A population based algorithm that exploits k-means++ for recombination', [Web Link], 2019\n",
    "- **Dataset Source**: https://archive.ics.uci.edu/ml/datasets/UrbanGB%2C+urban+road+accidents+coordinates+labelled+by+the+urban+center#\n",
    "\n",
    "- **UCI**: Dua, D. and Graff, C. (2019). UCI Machine Learning Repository [http://archive.ics.uci.edu/ml]. Irvine, CA: University of California, School of Information and Computer Science."
   ]
  },
  {
   "cell_type": "code",
   "execution_count": null,
   "metadata": {},
   "outputs": [],
   "source": [
    "import cartopy.crs as ccrs\n",
    "import matplotlib.pyplot as plt\n",
    "%matplotlib inline\n",
    "import numpy as np\n",
    "import pandas as pd\n",
    "\n",
    "from DyClee.algorithms import SerialDyClee\n",
    "from DyClee.plotting import *"
   ]
  },
  {
   "cell_type": "code",
   "execution_count": null,
   "metadata": {
    "scrolled": true
   },
   "outputs": [],
   "source": [
    "df = pd.read_csv('urbanGB.txt')\n",
    "print(df.shape)\n",
    "print(df.head)"
   ]
  },
  {
   "cell_type": "code",
   "execution_count": null,
   "metadata": {},
   "outputs": [],
   "source": [
    "# Restrict to western region\n",
    "df = df[(df['lon'] >= -4) & (df['lon'] <= -2)]\n",
    "df = df[(df['lat'] >= 51) & (df['lat'] <= 52)]\n",
    "print(df.shape)"
   ]
  },
  {
   "cell_type": "code",
   "execution_count": null,
   "metadata": {
    "scrolled": true
   },
   "outputs": [],
   "source": [
    "ax = plt.axes(projection=ccrs.EckertVI())\n",
    "ax.set_extent((-5.55599, 1.75834, 50.0797, 57.6956))\n",
    "ax.coastlines(resolution='10m')\n",
    "plt.show()"
   ]
  },
  {
   "cell_type": "code",
   "execution_count": null,
   "metadata": {
    "scrolled": true
   },
   "outputs": [],
   "source": [
    "ax = plt.axes(projection=ccrs.EckertVI())\n",
    "ax.set_extent((-4, -2, 51, 52))\n",
    "ax.coastlines(resolution='10m')\n",
    "ax.scatter(df['lon'], df['lat'], transform=ccrs.PlateCarree())\n",
    "plt.savefig('map.png')\n",
    "plt.show()"
   ]
  },
  {
   "cell_type": "code",
   "execution_count": null,
   "metadata": {},
   "outputs": [],
   "source": [
    "#Rescale per the README\n",
    "# df['lon'] = df['lon'] / 1.7 \n",
    "\n",
    "X = df.to_numpy(dtype=np.float64)\n",
    "\n",
    "# Context matrix\n",
    "context = np.vstack([X.min(axis=0), X.max(axis=0)])\n",
    "\n",
    "# Create dyclee class object \n",
    "dyclee = SerialDyClee(phi=0.03, context=context)"
   ]
  },
  {
   "cell_type": "code",
   "execution_count": null,
   "metadata": {
    "scrolled": true
   },
   "outputs": [],
   "source": [
    "%%time\n",
    "\n",
    "# Run dyclee\n",
    "results = dyclee.run_dataset(data=X)"
   ]
  },
  {
   "cell_type": "code",
   "execution_count": null,
   "metadata": {},
   "outputs": [],
   "source": [
    "all_uC = dyclee.A_list + dyclee.O_list\n",
    "for uC in all_uC:\n",
    "    uC.center = (uC.center * dyclee.context[2]) + dyclee.context[0]\n",
    "cluster_df = pd.DataFrame([uC.center for uC in all_uC], columns=['x', 'y'])\n",
    "labels = [uC.Classk for uC in all_uC]\n",
    "labels = strip_labels(labels)\n",
    "labels = [float(label) if label != \"Unclassed\" else -1.0 for label in labels]\n",
    "hyperbox_size = dyclee._get_hyperbox_sizes()\n",
    "\n",
    "plt.figure(figsize=(20, 10))\n",
    "ax = plt.axes(projection=ccrs.EckertVI())\n",
    "ax.set_extent((-4, -2, 51, 52))\n",
    "ax.coastlines(resolution='10m')\n",
    "ax.scatter(cluster_df['x'], cluster_df['y'], c=labels, cmap='hsv', transform=ccrs.PlateCarree())\n",
    "\n",
    "for uC in all_uC:\n",
    "    center = uC.center\n",
    "    #ax.text(center[0], center[1], uC.Classk, horizontalalignment='left', size='medium', color='black', weight='normal', transform=ccrs.PlateCarree())\n",
    "    \n",
    "    Xmin = (center[0] - hyperbox_size[0]/2)\n",
    "    ymin = (center[1] - hyperbox_size[1]/2)\n",
    "    xy = (Xmin, ymin)\n",
    "    #plt.gca().add_patch(Rectangle(xy,hyperbox_size[0],hyperbox_size[1],linewidth=0.5,edgecolor='r',facecolor='none', clip_on=False, transform=ccrs.PlateCarree()))\n",
    "\n",
    "plt.savefig('map.png')\n",
    "plt.show()"
   ]
  }
 ],
 "metadata": {
  "kernelspec": {
   "display_name": "Python 3",
   "language": "python",
   "name": "python3"
  },
  "language_info": {
   "codemirror_mode": {
    "name": "ipython",
    "version": 3
   },
   "file_extension": ".py",
   "mimetype": "text/x-python",
   "name": "python",
   "nbconvert_exporter": "python",
   "pygments_lexer": "ipython3",
   "version": "3.8.5"
  }
 },
 "nbformat": 4,
 "nbformat_minor": 4
}
